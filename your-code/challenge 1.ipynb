{
 "cells": [
  {
   "cell_type": "code",
   "execution_count": 30,
   "id": "e448fd8f",
   "metadata": {},
   "outputs": [],
   "source": [
    "#challenge 1"
   ]
  },
  {
   "cell_type": "code",
   "execution_count": 96,
   "id": "989b89a1",
   "metadata": {},
   "outputs": [],
   "source": [
    "def define_numbers(a) : \n",
    "    if a == 'zero' :\n",
    "        z = 0 \n",
    "    if a =='one' :\n",
    "        z =1\n",
    "    if a == 'two' :\n",
    "        z = 2\n",
    "    if a == 'three' : \n",
    "        z =3\n",
    "    if a =='four' : \n",
    "        z = 4 \n",
    "    if a == 'five':\n",
    "        z =5\n",
    "    return z\n",
    "\n",
    "def define_calculator(a,b,c) : \n",
    "    e = define_numbers(a)\n",
    "    f = define_numbers(c)\n",
    "    if b =='plus' : \n",
    "        y = e + f\n",
    "    else : \n",
    "        y = e - f\n",
    "    return y \n",
    "\n",
    "def results (o) : \n",
    "    x = ['zero','one','two','three','four','five','six','seven','eight','nine','ten']\n",
    "    r = x[o]\n",
    "    return r \n",
    "\n",
    "\n",
    "def calcul () :\n",
    "    print('Welcome to this calculator!')\n",
    "    print('It can add and subtract whole numbers from zero to five')\n",
    "    a = input('Please choose your first number (zero to five): ')\n",
    "    b = input('What do you want to do? plus or minus: ')\n",
    "    c = input('Please choose your second number (zero to five): ')\n",
    "    d = define_calculator(a,b,c) \n",
    "    d = results(d)\n",
    "    print(a,b,c,'equals',d)"
   ]
  },
  {
   "cell_type": "code",
   "execution_count": null,
   "id": "415e6312",
   "metadata": {},
   "outputs": [],
   "source": [
    "\n",
    "    "
   ]
  },
  {
   "cell_type": "code",
   "execution_count": 97,
   "id": "4b260e68",
   "metadata": {},
   "outputs": [
    {
     "name": "stdout",
     "output_type": "stream",
     "text": [
      "Welcome to this calculator!\n",
      "It can add and subtract whole numbers from zero to five\n",
      "Please choose your first number (zero to five): four\n",
      "What do you want to do? plus or minus: plus\n",
      "Please choose your second number (zero to five): four\n",
      "four plus four equals eight\n"
     ]
    }
   ],
   "source": [
    "calcul()"
   ]
  },
  {
   "cell_type": "code",
   "execution_count": 84,
   "id": "eb9e2998",
   "metadata": {},
   "outputs": [],
   "source": []
  },
  {
   "cell_type": "code",
   "execution_count": 85,
   "id": "c21a7d14",
   "metadata": {},
   "outputs": [],
   "source": []
  },
  {
   "cell_type": "code",
   "execution_count": null,
   "id": "7babc91a",
   "metadata": {},
   "outputs": [],
   "source": []
  },
  {
   "cell_type": "code",
   "execution_count": null,
   "id": "5c6c9c72",
   "metadata": {},
   "outputs": [],
   "source": []
  },
  {
   "cell_type": "code",
   "execution_count": null,
   "id": "df7da68f",
   "metadata": {},
   "outputs": [],
   "source": []
  },
  {
   "cell_type": "code",
   "execution_count": null,
   "id": "30fd1e02",
   "metadata": {},
   "outputs": [],
   "source": []
  }
 ],
 "metadata": {
  "kernelspec": {
   "display_name": "Python 3 (ipykernel)",
   "language": "python",
   "name": "python3"
  },
  "language_info": {
   "codemirror_mode": {
    "name": "ipython",
    "version": 3
   },
   "file_extension": ".py",
   "mimetype": "text/x-python",
   "name": "python",
   "nbconvert_exporter": "python",
   "pygments_lexer": "ipython3",
   "version": "3.9.7"
  }
 },
 "nbformat": 4,
 "nbformat_minor": 5
}
